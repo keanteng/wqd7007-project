{
 "cells": [
  {
   "cell_type": "code",
   "execution_count": 22,
   "id": "8996a5ce",
   "metadata": {},
   "outputs": [
    {
     "name": "stdout",
     "output_type": "stream",
     "text": [
      "Requirement already satisfied: pandas in c:\\users\\jianl\\onedrive\\documents\\hive_project\\.venv\\lib\\site-packages (2.2.3)\n",
      "Requirement already satisfied: numpy>=1.26.0 in c:\\users\\jianl\\onedrive\\documents\\hive_project\\.venv\\lib\\site-packages (from pandas) (2.2.5)\n",
      "Requirement already satisfied: python-dateutil>=2.8.2 in c:\\users\\jianl\\onedrive\\documents\\hive_project\\.venv\\lib\\site-packages (from pandas) (2.9.0.post0)\n",
      "Requirement already satisfied: pytz>=2020.1 in c:\\users\\jianl\\onedrive\\documents\\hive_project\\.venv\\lib\\site-packages (from pandas) (2025.2)\n",
      "Requirement already satisfied: tzdata>=2022.7 in c:\\users\\jianl\\onedrive\\documents\\hive_project\\.venv\\lib\\site-packages (from pandas) (2025.2)\n",
      "Requirement already satisfied: six>=1.5 in c:\\users\\jianl\\onedrive\\documents\\hive_project\\.venv\\lib\\site-packages (from python-dateutil>=2.8.2->pandas) (1.17.0)\n",
      "Note: you may need to restart the kernel to use updated packages.\n"
     ]
    }
   ],
   "source": [
    "pip install pandas"
   ]
  },
  {
   "cell_type": "markdown",
   "id": "4bb4a5d8",
   "metadata": {},
   "source": [
    "Original CSV"
   ]
  },
  {
   "cell_type": "code",
   "execution_count": 28,
   "id": "cb736f2c",
   "metadata": {},
   "outputs": [
    {
     "name": "stdout",
     "output_type": "stream",
     "text": [
      "\n",
      "--- Missing Values ---\n",
      "VendorID                 32518\n",
      "lpep_pickup_datetime         0\n",
      "lpep_dropoff_datetime        0\n",
      "store_and_fwd_flag       32518\n",
      "RatecodeID               32518\n",
      "PULocationID                 0\n",
      "DOLocationID                 0\n",
      "passenger_count          32518\n",
      "trip_distance                0\n",
      "fare_amount                  0\n",
      "extra                        0\n",
      "mta_tax                      0\n",
      "tip_amount                   0\n",
      "tolls_amount                 0\n",
      "ehail_fee                83691\n",
      "improvement_surcharge        0\n",
      "total_amount                 0\n",
      "payment_type             32518\n",
      "trip_type                32518\n",
      "congestion_surcharge     32518\n",
      "dtype: int64\n",
      "\n",
      "--- Negative Values ---\n",
      "fare_amount: 145 negative values\n",
      "extra: 53 negative values\n",
      "mta_tax: 132 negative values\n",
      "tip_amount: 18 negative values\n",
      "improvement_surcharge: 141 negative values\n",
      "total_amount: 145 negative values\n",
      "congestion_surcharge: 3 negative values\n"
     ]
    },
    {
     "name": "stderr",
     "output_type": "stream",
     "text": [
      "C:\\Users\\jianl\\AppData\\Local\\Temp\\ipykernel_24076\\3301322064.py:4: DtypeWarning: Columns (3) have mixed types. Specify dtype option on import or set low_memory=False.\n",
      "  df = pd.read_csv('taxi_data.csv')\n"
     ]
    }
   ],
   "source": [
    "import pandas as pd\n",
    "\n",
    "# Load the CSV file\n",
    "df = pd.read_csv('taxi_data.csv')\n",
    "\n",
    "# Check for missing values\n",
    "print(\"\\n--- Missing Values ---\")\n",
    "print(df.isnull().sum())\n",
    "\n",
    "# Check for negative values in numeric columns\n",
    "print(\"\\n--- Negative Values ---\")\n",
    "numeric_cols = df.select_dtypes(include=['int64', 'float64']).columns\n",
    "for col in numeric_cols:\n",
    "    negative_count = (df[col] < 0).sum()\n",
    "    if negative_count > 0:\n",
    "        print(f\"{col}: {negative_count} negative values\")"
   ]
  },
  {
   "cell_type": "code",
   "execution_count": 29,
   "id": "99be96ff",
   "metadata": {},
   "outputs": [
    {
     "name": "stdout",
     "output_type": "stream",
     "text": [
      "Rows: 83,691\n",
      "Cols: 20\n"
     ]
    }
   ],
   "source": [
    "print(f\"Rows: {df.shape[0]:,}\")\n",
    "print(f\"Cols: {df.shape[1]:,}\")"
   ]
  },
  {
   "cell_type": "markdown",
   "id": "f9e7c7d0",
   "metadata": {},
   "source": [
    "Cleaned CSV with hive"
   ]
  },
  {
   "cell_type": "code",
   "execution_count": 35,
   "id": "1f0c051d",
   "metadata": {},
   "outputs": [
    {
     "name": "stdout",
     "output_type": "stream",
     "text": [
      "\n",
      "--- Missing Values ---\n",
      "vendor_id                0\n",
      "pickup_time              0\n",
      "dropoff_time             0\n",
      "flag                     0\n",
      "rate_code                0\n",
      "pu_location              0\n",
      "do_location              0\n",
      "passenger_count          0\n",
      "trip_distance            0\n",
      "fare_amount              0\n",
      "extra                    0\n",
      "mta_tax                  0\n",
      "tip_amount               0\n",
      "tolls_amount             0\n",
      "trip_duration_minutes    0\n",
      "improvement_surcharge    0\n",
      "total_amount             0\n",
      "payment_type             0\n",
      "trip_type                0\n",
      "congestion_surcharge     0\n",
      "dtype: int64\n",
      "\n",
      "--- Negative Values ---\n"
     ]
    },
    {
     "name": "stderr",
     "output_type": "stream",
     "text": [
      "C:\\Users\\jianl\\AppData\\Local\\Temp\\ipykernel_24076\\82610253.py:4: DtypeWarning: Columns (0,4,17,18) have mixed types. Specify dtype option on import or set low_memory=False.\n",
      "  df = pd.read_csv('final_with_headers.csv')\n"
     ]
    }
   ],
   "source": [
    "import pandas as pd\n",
    "\n",
    "# Load the CSV file\n",
    "df = pd.read_csv('final_with_headers.csv')\n",
    "\n",
    "# Check for missing values\n",
    "print(\"\\n--- Missing Values ---\")\n",
    "print(df.isnull().sum())\n",
    "\n",
    "# Check for negative values in numeric columns\n",
    "print(\"\\n--- Negative Values ---\")\n",
    "numeric_cols = df.select_dtypes(include=['int64', 'float64']).columns\n",
    "for col in numeric_cols:\n",
    "    negative_count = (df[col] < 0).sum()\n",
    "    if negative_count > 0:\n",
    "        print(f\"{col}: {negative_count} negative values\")"
   ]
  },
  {
   "cell_type": "code",
   "execution_count": 38,
   "id": "ea536c92",
   "metadata": {},
   "outputs": [
    {
     "name": "stdout",
     "output_type": "stream",
     "text": [
      "Index(['vendor_id', 'pickup_time', 'dropoff_time', 'flag', 'rate_code',\n",
      "       'pu_location', 'do_location', 'passenger_count', 'trip_distance',\n",
      "       'fare_amount', 'extra', 'mta_tax', 'tip_amount', 'tolls_amount',\n",
      "       'trip_duration_minutes', 'improvement_surcharge', 'total_amount',\n",
      "       'payment_type', 'trip_type', 'congestion_surcharge'],\n",
      "      dtype='object')\n"
     ]
    }
   ],
   "source": [
    "print(df.columns)   "
   ]
  },
  {
   "cell_type": "code",
   "execution_count": 39,
   "id": "00a033bc",
   "metadata": {},
   "outputs": [
    {
     "name": "stdout",
     "output_type": "stream",
     "text": [
      "Rows: 83,459\n",
      "Cols: 20\n"
     ]
    }
   ],
   "source": [
    "print(f\"Rows: {df.shape[0]:,}\")\n",
    "print(f\"Cols: {df.shape[1]:,}\")"
   ]
  }
 ],
 "metadata": {
  "kernelspec": {
   "display_name": ".venv",
   "language": "python",
   "name": "python3"
  },
  "language_info": {
   "codemirror_mode": {
    "name": "ipython",
    "version": 3
   },
   "file_extension": ".py",
   "mimetype": "text/x-python",
   "name": "python",
   "nbconvert_exporter": "python",
   "pygments_lexer": "ipython3",
   "version": "3.12.10"
  }
 },
 "nbformat": 4,
 "nbformat_minor": 5
}
